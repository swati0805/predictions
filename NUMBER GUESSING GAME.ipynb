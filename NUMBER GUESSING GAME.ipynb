{
 "cells": [
  {
   "cell_type": "code",
   "execution_count": 2,
   "id": "201f7719",
   "metadata": {},
   "outputs": [
    {
     "name": "stdout",
     "output_type": "stream",
     "text": [
      "Enter any number: 25\n",
      "Too low\n",
      "Enter number again: 358\n",
      "Too high!\n",
      "Enter number again: 46\n",
      "Too low\n",
      "Enter number again: 46\n",
      "Too low\n",
      "Enter number again: 70\n",
      "Too high!\n",
      "Enter number again: 60\n",
      "Too low\n",
      "Enter number again: 68\n",
      "Too low\n",
      "Enter number again: 69\n",
      "you guessed it right!!\n"
     ]
    }
   ],
   "source": [
    "# to import random module\n",
    "import random\n",
    "# to create a range of random numbers between 1-10\n",
    "n = random.randrange(1,100)\n",
    "# to take a user input to enter a number\n",
    "guess = int(input(\"Enter any number: \"))\n",
    "while n!= guess: # means if n is not equal to the input guess\n",
    "    # if guess is smaller than n\n",
    "    if guess < n:\n",
    "        print(\"Too low\")\n",
    "        # to again ask for input\n",
    "        guess = int(input(\"Enter number again: \"))\n",
    "    # if guess is greater than n\n",
    "    elif guess > n:\n",
    "        print(\"Too high!\")\n",
    "        # to again ask for the user input\n",
    "        guess = int(input(\"Enter number again: \"))\n",
    "    # if guess gets equals to n terminate the while loop\n",
    "    else:\n",
    "        break\n",
    "print(\"you guessed it right!!\")"
   ]
  }
 ],
 "metadata": {
  "kernelspec": {
   "display_name": "Python 3",
   "language": "python",
   "name": "python3"
  },
  "language_info": {
   "codemirror_mode": {
    "name": "ipython",
    "version": 3
   },
   "file_extension": ".py",
   "mimetype": "text/x-python",
   "name": "python",
   "nbconvert_exporter": "python",
   "pygments_lexer": "ipython3",
   "version": "3.8.8"
  }
 },
 "nbformat": 4,
 "nbformat_minor": 5
}

{
 "cells": [
  {
   "cell_type": "code",
   "execution_count": 1,
   "id": "f2fd5ec1",
   "metadata": {},
   "outputs": [
    {
     "name": "stdout",
     "output_type": "stream",
     "text": [
      "             STATION                                STATION_NAME      DATE  \\\n",
      "0  GHCND:USW00024233  SEATTLE TACOMA INTERNATIONAL AIRPORT WA US  20140101   \n",
      "1  GHCND:USW00024233  SEATTLE TACOMA INTERNATIONAL AIRPORT WA US  20140102   \n",
      "2  GHCND:USW00024233  SEATTLE TACOMA INTERNATIONAL AIRPORT WA US  20140103   \n",
      "3  GHCND:USW00024233  SEATTLE TACOMA INTERNATIONAL AIRPORT WA US  20140104   \n",
      "4  GHCND:USW00024233  SEATTLE TACOMA INTERNATIONAL AIRPORT WA US  20140105   \n",
      "\n",
      "   PRCP  SNWD  SNOW  TMAX  TMIN  AWND  WDF2  WDF5  WSF2  WSF5  WT01  WT05  \\\n",
      "0     0     0     0    72    33    12   340   310    36    40 -9999 -9999   \n",
      "1    41     0     0   106    61    32   190   200    94   116 -9999 -9999   \n",
      "2    15     0     0    89    28    26    30    50    63    72     1 -9999   \n",
      "3     0     0     0    78     6    27    40    40    45    58     1 -9999   \n",
      "4     0     0     0    83    -5    37    10    10    67    76 -9999 -9999   \n",
      "\n",
      "   WT02  WT03  \n",
      "0 -9999 -9999  \n",
      "1 -9999 -9999  \n",
      "2 -9999 -9999  \n",
      "3 -9999 -9999  \n",
      "4 -9999 -9999  \n",
      "(365,)\n"
     ]
    }
   ],
   "source": [
    "import numpy as np\n",
    "import pandas as pd\n",
    "\n",
    "data = pd.read_excel(\"count rain data.xlsx\")\n",
    "print(data.head())\n",
    "\n",
    "rainfall = data[\"PRCP\"].values\n",
    "inches = rainfall/254\n",
    "print(inches.shape)"
   ]
  },
  {
   "cell_type": "code",
   "execution_count": 2,
   "id": "e5a48cba",
   "metadata": {},
   "outputs": [
    {
     "data": {
      "image/png": "[encoded data removed]",
      "text/plain": [
       "<Figure size 432x288 with 1 Axes>"
      ]
     },
     "metadata": {},
     "output_type": "display_data"
    }
   ],
   "source": [
    "import matplotlib.pyplot as plt\n",
    "import seaborn\n",
    "seaborn.set()\n",
    "plt.hist(inches, 40)\n",
    "plt.show()"
   ]
  },
  {
   "cell_type": "code",
   "execution_count": 3,
   "id": "4548f796",
   "metadata": {},
   "outputs": [
    {
     "name": "stdout",
     "output_type": "stream",
     "text": [
      "Number of days without rain:  215\n",
      "Number of days with rain:  150\n",
      "Number of days with rain more than 0.5 inches:  37\n",
      "Number of days with rain < 0.2 inches:  75\n"
     ]
    }
   ],
   "source": [
    "print(\"Number of days without rain: \", np.sum(inches == 0))\n",
    "print(\"Number of days with rain: \", np.sum(inches != 0))\n",
    "print(\"Number of days with rain more than 0.5 inches: \", np.sum(inches>0.5))\n",
    "print(\"Number of days with rain < 0.2 inches: \", np.sum((inches > 0)& (inches < 0.2)))"
   ]
  },
  {
   "cell_type": "code",
   "execution_count": null,
   "id": "9ddedfdd",
   "metadata": {},
   "outputs": [],
   "source": []
  }
 ],
 "metadata": {
  "kernelspec": {
   "display_name": "Python 3",
   "language": "python",
   "name": "python3"
  },
  "language_info": {
   "codemirror_mode": {
    "name": "ipython",
    "version": 3
   },
   "file_extension": ".py",
   "mimetype": "text/x-python",
   "name": "python",
   "nbconvert_exporter": "python",
   "pygments_lexer": "ipython3",
   "version": "3.8.8"
  }
 },
 "nbformat": 4,
 "nbformat_minor": 5
}
